{
  "nbformat": 4,
  "nbformat_minor": 0,
  "metadata": {
    "colab": {
      "provenance": [],
      "authorship_tag": "ABX9TyMBT5xLBsyVq6MLJx4cIZl7",
      "include_colab_link": true
    },
    "kernelspec": {
      "name": "python3",
      "display_name": "Python 3"
    },
    "language_info": {
      "name": "python"
    }
  },
  "cells": [
    {
      "cell_type": "markdown",
      "metadata": {
        "id": "view-in-github",
        "colab_type": "text"
      },
      "source": [
        "<a href=\"https://colab.research.google.com/github/anjalijadhav002/anjali/blob/main/Data_science_4.ipynb\" target=\"_parent\"><img src=\"https://colab.research.google.com/assets/colab-badge.svg\" alt=\"Open In Colab\"/></a>"
      ]
    },
    {
      "cell_type": "code",
      "execution_count": 1,
      "metadata": {
        "id": "1Eenfuwx9etz"
      },
      "outputs": [],
      "source": [
        "def caesar_cipher_encrypt(text, shift):\n",
        "    encrypted_text = \"\"\n",
        "    for char in text:\n",
        "        if char.isalpha():  # Check if character is a letter\n",
        "            shifted = ord(char) + shift\n",
        "            if char.islower():\n",
        "                if shifted > ord('z'):\n",
        "                    shifted -= 26\n",
        "                elif shifted < ord('a'):\n",
        "                    shifted += 26\n",
        "            elif char.isupper():\n",
        "                if shifted > ord('Z'):\n",
        "                    shifted -= 26\n",
        "                elif shifted < ord('A'):\n",
        "                    shifted += 26\n",
        "            encrypted_text += chr(shifted)\n",
        "        else:\n",
        "            encrypted_text += char\n",
        "    return encrypted_text"
      ]
    },
    {
      "cell_type": "code",
      "source": [
        "def caesar_cipher_decrypt(encrypted_text, shift):\n",
        "    return caesar_cipher_encrypt(encrypted_text, -shift)"
      ],
      "metadata": {
        "id": "DqKGWDgf9uH0"
      },
      "execution_count": 3,
      "outputs": []
    },
    {
      "cell_type": "code",
      "source": [
        "# Example usage:\n",
        "if __name__ == \"__main__\":\n",
        "    plaintext = \"Hello, World!\"\n",
        "    shift = 3\n",
        "    encrypted_text = caesar_cipher_encrypt(plaintext, shift)\n",
        "    decrypted_text = caesar_cipher_decrypt(encrypted_text, shift)\n",
        "    print(\"Original:\", plaintext)\n",
        "    print(\"Encrypted:\", encrypted_text)\n",
        "    print(\"Decrypted:\", decrypted_text)"
      ],
      "metadata": {
        "colab": {
          "base_uri": "https://localhost:8080/"
        },
        "id": "YFsqkRd-94Fz",
        "outputId": "9941fcff-4efc-400c-b881-af032fa16bd2"
      },
      "execution_count": 5,
      "outputs": [
        {
          "output_type": "stream",
          "name": "stdout",
          "text": [
            "Original: Hello, World!\n",
            "Encrypted: Khoor, Zruog!\n",
            "Decrypted: Hello, World!\n"
          ]
        }
      ]
    }
  ]
}