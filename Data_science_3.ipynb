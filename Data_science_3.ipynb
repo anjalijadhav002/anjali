{
  "nbformat": 4,
  "nbformat_minor": 0,
  "metadata": {
    "colab": {
      "provenance": [],
      "authorship_tag": "ABX9TyORZGj87M12TsV4eWv+1AhN",
      "include_colab_link": true
    },
    "kernelspec": {
      "name": "python3",
      "display_name": "Python 3"
    },
    "language_info": {
      "name": "python"
    }
  },
  "cells": [
    {
      "cell_type": "markdown",
      "metadata": {
        "id": "view-in-github",
        "colab_type": "text"
      },
      "source": [
        "<a href=\"https://colab.research.google.com/github/anjalijadhav002/anjali/blob/main/Data_science_3.ipynb\" target=\"_parent\"><img src=\"https://colab.research.google.com/assets/colab-badge.svg\" alt=\"Open In Colab\"/></a>"
      ]
    },
    {
      "cell_type": "code",
      "execution_count": 3,
      "metadata": {
        "id": "5pjiTqbc5j27"
      },
      "outputs": [],
      "source": [
        "def print_board(board):\n",
        "    for i in range(len(board)):\n",
        "        if i % 3 == 0 and i != 0:\n",
        "            print(\"- - - - - - - - - - - - - \")\n",
        "        for j in range(len(board[0])):\n",
        "            if j % 3 == 0 and j != 0:\n",
        "                print(\" | \", end=\"\")\n",
        "            if j == 8:\n",
        "                print(board[i][j])\n",
        "            else:\n",
        "                print(str(board[i][j]) + \" \", end=\"\")\n",
        ""
      ]
    },
    {
      "cell_type": "code",
      "source": [
        " def find_empty_location(board):\n",
        "    for row in range(len(board)):\n",
        "        for col in range(len(board[0])):\n",
        "            if board[row][col] == 0:\n",
        "                return (row, col)\n",
        "    return None"
      ],
      "metadata": {
        "id": "cp916ihN5utB"
      },
      "execution_count": 5,
      "outputs": []
    },
    {
      "cell_type": "code",
      "source": [
        " def is_valid(board, num, pos):\n",
        "    # Check row\n",
        "    for i in range(len(board[0])):\n",
        "        if board[pos[0]][i] == num and pos[1] != i:\n",
        "            return False"
      ],
      "metadata": {
        "id": "jzWhmrSe54N3"
      },
      "execution_count": 6,
      "outputs": []
    },
    {
      "cell_type": "code",
      "source": [
        "def is_valid(board, num, pos):\n",
        "    # Check row\n",
        "    for i in range(len(board[0])):\n",
        "        if board[pos[0]][i] == num and pos[1] != i:\n",
        "            return False\n",
        "\n",
        "    # Calculate the box coordinates within the Sudoku board\n",
        "    box_x = pos[1] // 3\n",
        "    box_y = pos[0] // 3"
      ],
      "metadata": {
        "id": "KirJkheO6-sE"
      },
      "execution_count": 29,
      "outputs": []
    },
    {
      "cell_type": "code",
      "source": [
        "def is_valid(board, num, pos):\n",
        "    # Check row\n",
        "    for i in range(len(board[0])):\n",
        "        if board[pos[0]][i] == num and pos[1] != i:\n",
        "            return False\n",
        "\n",
        "    # Calculate the box coordinates within the Sudoku board\n",
        "    box_x = pos[1] // 3\n",
        "    box_y = pos[0] // 3  # Make sure box_y is defined before the loop\n",
        "\n",
        "    for i in range(box_y * 3, box_y * 3 + 3):\n",
        "        for j in range(box_x):\n",
        "            pass # Add your logic here."
      ],
      "metadata": {
        "id": "Fsf6maSf7AHx"
      },
      "execution_count": 41,
      "outputs": []
    },
    {
      "cell_type": "code",
      "source": [
        " def solve_sudoku(board):\n",
        "    find = find_empty_location(board)\n",
        "    if not find:\n",
        "        return True\n",
        "    else:\n",
        "        row, col = find\n",
        "    for i in range(1, 10):\n",
        "        if is_valid(board, i, (row, col)):\n",
        "            board[row][col] = i\n",
        "            if solve_sudoku(board):\n",
        "                return True\n",
        "            board[row][col] = 0\n",
        "    return False\n"
      ],
      "metadata": {
        "id": "Mh3QG05T7tBA"
      },
      "execution_count": 43,
      "outputs": []
    },
    {
      "cell_type": "code",
      "source": [
        " # Example usage:\n",
        " if __name__ == \"__main__\":\n",
        "    # Example board to solve\n",
        "    board = [\n",
        "        [5, 3, 0, 0, 7, 0, 0, 0, 0],\n",
        "        [6, 0, 0, 1, 9, 5, 0, 0, 0],\n",
        "        [0, 9, 8, 0, 0, 0, 0, 6, 0],\n",
        "        [8, 0, 0, 0, 6, 0, 0, 0, 3],\n",
        "        [4, 0, 0, 8, 0, 3, 0, 0, 1],\n",
        "        [7, 0, 0, 0, 2, 0, 0, 0, 6],\n",
        "        [0, 6, 0, 0, 0, 0, 2, 8, 0],\n",
        "        [0, 0, 0, 4, 1, 9, 0, 0, 5],\n",
        "        [0, 0, 0, 0, 8, 0, 0, 7, 9]\n",
        "    ]\n"
      ],
      "metadata": {
        "id": "-HgQLkcV8AXV"
      },
      "execution_count": 44,
      "outputs": []
    },
    {
      "cell_type": "code",
      "source": [
        "print(\"Sudoku board to solve:\")\n",
        "print_board(board)\n",
        "if solve_sudoku(board):\n",
        "    print(\"\\nSolution:\")\n",
        "    print_board(board)\n",
        "else:\n",
        "    print(\"\\nNo solution exists.\")"
      ],
      "metadata": {
        "colab": {
          "base_uri": "https://localhost:8080/"
        },
        "id": "SOTHXCos8QRv",
        "outputId": "90192073-ccc9-43cc-ea46-029be70dc725"
      },
      "execution_count": 50,
      "outputs": [
        {
          "output_type": "stream",
          "name": "stdout",
          "text": [
            "Sudoku board to solve:\n",
            "5 3 0  | 0 7 0  | 0 0 0\n",
            "6 0 0  | 1 9 5  | 0 0 0\n",
            "0 9 8  | 0 0 0  | 0 6 0\n",
            "- - - - - - - - - - - - - \n",
            "8 0 0  | 0 6 0  | 0 0 3\n",
            "4 0 0  | 8 0 3  | 0 0 1\n",
            "7 0 0  | 0 2 0  | 0 0 6\n",
            "- - - - - - - - - - - - - \n",
            "0 6 0  | 0 0 0  | 2 8 0\n",
            "0 0 0  | 4 1 9  | 0 0 5\n",
            "0 0 0  | 0 8 0  | 0 7 9\n",
            "\n",
            "No solution exists.\n"
          ]
        }
      ]
    }
  ]
}